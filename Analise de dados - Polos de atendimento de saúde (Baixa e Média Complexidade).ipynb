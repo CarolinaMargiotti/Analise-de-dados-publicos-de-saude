{
 "cells": [
  {
   "cell_type": "markdown",
   "metadata": {},
   "source": [
    "**Os dados, até a data do presente estudo, estão em https://saude-ibgedgc.hub.arcgis.com/datasets/2dfd385e7ded49c6b7f7929911806a20_2**\n",
    "\n",
    "**O presente arquivo é de terça, 27 de junho de 2020.**\n",
    "\n",
    "Dupla: \n",
    "Carolina Margiotti de Abreu e Leonardo de Souza Augusto\n",
    "\n",
    "**Disclaimer/Aviso Legal: Este notebook tem um fim único e exclusivamente didático para alunos da FATEC, como uma introdução à Análise de Dados Públicos. Desse modo, está excluída a garantia ou responsabilidade de qualquer tipo, por exemplo, de precisão, confiabilidade, completude e atualidade das informações.**"
   ]
  },
  {
   "cell_type": "code",
   "execution_count": 1,
   "metadata": {},
   "outputs": [],
   "source": [
    "import pandas as pd\n",
    "import os\n",
    "import matplotlib.pyplot as plt\n",
    "import matplotlib.cbook as cbook\n",
    "import matplotlib.ticker as ticker\n",
    "from datetime import datetime\n",
    "import folium\n",
    "from folium import plugins\n",
    "from folium.plugins import HeatMap\n",
    "low_memory=False\n",
    "%matplotlib inline\n",
    "pd.options.display.max_columns = 80\n",
    "pd.options.display.max_rows = 90"
   ]
  },
  {
   "cell_type": "code",
   "execution_count": 2,
   "metadata": {},
   "outputs": [],
   "source": [
    "filename = r'Polos de atendimento de saude (baixa e média complexidade) (27.06.2020).csv'\n",
    "df = pd.read_csv(filename, delimiter=',', \n",
    "                 encoding='utf8',\n",
    "                 error_bad_lines=False)"
   ]
  },
  {
   "cell_type": "code",
   "execution_count": 3,
   "metadata": {},
   "outputs": [
    {
     "data": {
      "text/plain": [
       "(909, 8)"
      ]
     },
     "execution_count": 3,
     "metadata": {},
     "output_type": "execute_result"
    }
   ],
   "source": [
    "df.shape"
   ]
  },
  {
   "cell_type": "code",
   "execution_count": 4,
   "metadata": {
    "scrolled": true
   },
   "outputs": [
    {
     "name": "stdout",
     "output_type": "stream",
     "text": [
      "0 X\n",
      "1 Y\n",
      "2 OBJECTID\n",
      "3 Geocodigo\n",
      "4 Municipio\n",
      "5 Municipio_ou_referencia_arranjo\n",
      "6 Polos_de_Alta_Complexidade\n",
      "7 Polos_Baixa_media_complexidade\n"
     ]
    }
   ],
   "source": [
    "for k in range(0,len(df.columns)): print (k, df.columns[k])"
   ]
  },
  {
   "cell_type": "code",
   "execution_count": 5,
   "metadata": {
    "scrolled": true
   },
   "outputs": [
    {
     "data": {
      "text/html": [
       "<div>\n",
       "<style scoped>\n",
       "    .dataframe tbody tr th:only-of-type {\n",
       "        vertical-align: middle;\n",
       "    }\n",
       "\n",
       "    .dataframe tbody tr th {\n",
       "        vertical-align: top;\n",
       "    }\n",
       "\n",
       "    .dataframe thead th {\n",
       "        text-align: right;\n",
       "    }\n",
       "</style>\n",
       "<table border=\"1\" class=\"dataframe\">\n",
       "  <thead>\n",
       "    <tr style=\"text-align: right;\">\n",
       "      <th></th>\n",
       "      <th>X</th>\n",
       "      <th>Y</th>\n",
       "      <th>OBJECTID</th>\n",
       "      <th>Geocodigo</th>\n",
       "      <th>Municipio</th>\n",
       "      <th>Municipio_ou_referencia_arranjo</th>\n",
       "      <th>Polos_de_Alta_Complexidade</th>\n",
       "      <th>Polos_Baixa_media_complexidade</th>\n",
       "    </tr>\n",
       "  </thead>\n",
       "  <tbody>\n",
       "    <tr>\n",
       "      <th>374</th>\n",
       "      <td>-50.193551</td>\n",
       "      <td>-19.727241</td>\n",
       "      <td>375</td>\n",
       "      <td>3134400</td>\n",
       "      <td>ITURAMA</td>\n",
       "      <td>ITURAMA</td>\n",
       "      <td>NaN</td>\n",
       "      <td>polo de baixa e media complexidade de serviços...</td>\n",
       "    </tr>\n",
       "    <tr>\n",
       "      <th>480</th>\n",
       "      <td>-43.709385</td>\n",
       "      <td>-22.609727</td>\n",
       "      <td>481</td>\n",
       "      <td>3303609</td>\n",
       "      <td>PARACAMBI</td>\n",
       "      <td>PARACAMBI</td>\n",
       "      <td>NaN</td>\n",
       "      <td>subpolo de baixa e media complexidade de servi...</td>\n",
       "    </tr>\n",
       "    <tr>\n",
       "      <th>123</th>\n",
       "      <td>-42.247112</td>\n",
       "      <td>-8.359310</td>\n",
       "      <td>124</td>\n",
       "      <td>2210003</td>\n",
       "      <td>SAO JOAO DO PIAUI</td>\n",
       "      <td>SAO JOAO DO PIAUI</td>\n",
       "      <td>NaN</td>\n",
       "      <td>polo de baixa e media complexidade de serviços...</td>\n",
       "    </tr>\n",
       "    <tr>\n",
       "      <th>635</th>\n",
       "      <td>-52.612300</td>\n",
       "      <td>-23.654400</td>\n",
       "      <td>636</td>\n",
       "      <td>4105508</td>\n",
       "      <td>CIANORTE</td>\n",
       "      <td>CIANORTE</td>\n",
       "      <td>Polo de alta complexidade de serviços de saúde</td>\n",
       "      <td>polo de baixa e media complexidade de serviços...</td>\n",
       "    </tr>\n",
       "    <tr>\n",
       "      <th>479</th>\n",
       "      <td>-43.450345</td>\n",
       "      <td>-22.759835</td>\n",
       "      <td>480</td>\n",
       "      <td>3303500</td>\n",
       "      <td>NOVA IGUACU</td>\n",
       "      <td>NOVA IGUACU</td>\n",
       "      <td>Subpolo de alta complexidade de serviços de saúde</td>\n",
       "      <td>subpolo de baixa e media complexidade de servi...</td>\n",
       "    </tr>\n",
       "    <tr>\n",
       "      <th>...</th>\n",
       "      <td>...</td>\n",
       "      <td>...</td>\n",
       "      <td>...</td>\n",
       "      <td>...</td>\n",
       "      <td>...</td>\n",
       "      <td>...</td>\n",
       "      <td>...</td>\n",
       "      <td>...</td>\n",
       "    </tr>\n",
       "    <tr>\n",
       "      <th>114</th>\n",
       "      <td>-42.372352</td>\n",
       "      <td>-3.459759</td>\n",
       "      <td>115</td>\n",
       "      <td>2205805</td>\n",
       "      <td>LUZILANDIA</td>\n",
       "      <td>LUZILANDIA</td>\n",
       "      <td>NaN</td>\n",
       "      <td>polo de baixa e media complexidade de serviços...</td>\n",
       "    </tr>\n",
       "    <tr>\n",
       "      <th>801</th>\n",
       "      <td>-54.264143</td>\n",
       "      <td>-28.301938</td>\n",
       "      <td>802</td>\n",
       "      <td>4317509</td>\n",
       "      <td>SANTO ANGELO</td>\n",
       "      <td>SANTO ANGELO</td>\n",
       "      <td>Polo de alta complexidade de serviços de saúde</td>\n",
       "      <td>polo de baixa e media complexidade de serviços...</td>\n",
       "    </tr>\n",
       "    <tr>\n",
       "      <th>84</th>\n",
       "      <td>-47.490060</td>\n",
       "      <td>-5.527317</td>\n",
       "      <td>85</td>\n",
       "      <td>2105302</td>\n",
       "      <td>IMPERATRIZ</td>\n",
       "      <td>IMPERATRIZ</td>\n",
       "      <td>Polo de alta complexidade de serviços de saúde</td>\n",
       "      <td>polo de baixa e media complexidade de serviços...</td>\n",
       "    </tr>\n",
       "    <tr>\n",
       "      <th>557</th>\n",
       "      <td>-51.439737</td>\n",
       "      <td>-21.512164</td>\n",
       "      <td>558</td>\n",
       "      <td>3526001</td>\n",
       "      <td>JUNQUEIROPOLIS</td>\n",
       "      <td>JUNQUEIROPOLIS</td>\n",
       "      <td>NaN</td>\n",
       "      <td>polo de baixa e media complexidade de serviços...</td>\n",
       "    </tr>\n",
       "    <tr>\n",
       "      <th>865</th>\n",
       "      <td>-55.924786</td>\n",
       "      <td>-13.092086</td>\n",
       "      <td>866</td>\n",
       "      <td>5105259</td>\n",
       "      <td>LUCAS DO RIO VERDE</td>\n",
       "      <td>LUCAS DO RIO VERDE</td>\n",
       "      <td>NaN</td>\n",
       "      <td>polo de baixa e media complexidade de serviços...</td>\n",
       "    </tr>\n",
       "  </tbody>\n",
       "</table>\n",
       "<p>100 rows × 8 columns</p>\n",
       "</div>"
      ],
      "text/plain": [
       "             X          Y  OBJECTID  Geocodigo           Municipio  \\\n",
       "374 -50.193551 -19.727241       375    3134400             ITURAMA   \n",
       "480 -43.709385 -22.609727       481    3303609           PARACAMBI   \n",
       "123 -42.247112  -8.359310       124    2210003   SAO JOAO DO PIAUI   \n",
       "635 -52.612300 -23.654400       636    4105508            CIANORTE   \n",
       "479 -43.450345 -22.759835       480    3303500         NOVA IGUACU   \n",
       "..         ...        ...       ...        ...                 ...   \n",
       "114 -42.372352  -3.459759       115    2205805          LUZILANDIA   \n",
       "801 -54.264143 -28.301938       802    4317509        SANTO ANGELO   \n",
       "84  -47.490060  -5.527317        85    2105302          IMPERATRIZ   \n",
       "557 -51.439737 -21.512164       558    3526001      JUNQUEIROPOLIS   \n",
       "865 -55.924786 -13.092086       866    5105259  LUCAS DO RIO VERDE   \n",
       "\n",
       "    Municipio_ou_referencia_arranjo  \\\n",
       "374                         ITURAMA   \n",
       "480                       PARACAMBI   \n",
       "123               SAO JOAO DO PIAUI   \n",
       "635                        CIANORTE   \n",
       "479                     NOVA IGUACU   \n",
       "..                              ...   \n",
       "114                      LUZILANDIA   \n",
       "801                    SANTO ANGELO   \n",
       "84                       IMPERATRIZ   \n",
       "557                  JUNQUEIROPOLIS   \n",
       "865              LUCAS DO RIO VERDE   \n",
       "\n",
       "                            Polos_de_Alta_Complexidade  \\\n",
       "374                                                NaN   \n",
       "480                                                NaN   \n",
       "123                                                NaN   \n",
       "635     Polo de alta complexidade de serviços de saúde   \n",
       "479  Subpolo de alta complexidade de serviços de saúde   \n",
       "..                                                 ...   \n",
       "114                                                NaN   \n",
       "801     Polo de alta complexidade de serviços de saúde   \n",
       "84      Polo de alta complexidade de serviços de saúde   \n",
       "557                                                NaN   \n",
       "865                                                NaN   \n",
       "\n",
       "                        Polos_Baixa_media_complexidade  \n",
       "374  polo de baixa e media complexidade de serviços...  \n",
       "480  subpolo de baixa e media complexidade de servi...  \n",
       "123  polo de baixa e media complexidade de serviços...  \n",
       "635  polo de baixa e media complexidade de serviços...  \n",
       "479  subpolo de baixa e media complexidade de servi...  \n",
       "..                                                 ...  \n",
       "114  polo de baixa e media complexidade de serviços...  \n",
       "801  polo de baixa e media complexidade de serviços...  \n",
       "84   polo de baixa e media complexidade de serviços...  \n",
       "557  polo de baixa e media complexidade de serviços...  \n",
       "865  polo de baixa e media complexidade de serviços...  \n",
       "\n",
       "[100 rows x 8 columns]"
      ]
     },
     "execution_count": 5,
     "metadata": {},
     "output_type": "execute_result"
    }
   ],
   "source": [
    "df.sample(100)"
   ]
  },
  {
   "cell_type": "code",
   "execution_count": 6,
   "metadata": {},
   "outputs": [
    {
     "data": {
      "text/plain": [
       "<matplotlib.axes._subplots.AxesSubplot at 0x261e78436c8>"
      ]
     },
     "execution_count": 6,
     "metadata": {},
     "output_type": "execute_result"
    },
    {
     "data": {
      "image/png": "[encoded data removed]",
      "text/plain": [
       "<Figure size 432x288 with 1 Axes>"
      ]
     },
     "metadata": {
      "needs_background": "light"
     },
     "output_type": "display_data"
    }
   ],
   "source": [
    "df.groupby('Municipio').size().sort_values().tail(5).plot(kind='barh')"
   ]
  },
  {
   "cell_type": "code",
   "execution_count": 7,
   "metadata": {},
   "outputs": [
    {
     "data": {
      "text/plain": [
       "<matplotlib.axes._subplots.AxesSubplot at 0x261e7843788>"
      ]
     },
     "execution_count": 7,
     "metadata": {},
     "output_type": "execute_result"
    },
    {
     "data": {
      "image/png": "[encoded data removed]",
      "text/plain": [
       "<Figure size 432x288 with 1 Axes>"
      ]
     },
     "metadata": {
      "needs_background": "light"
     },
     "output_type": "display_data"
    }
   ],
   "source": [
    "df.groupby('Polos_de_Alta_Complexidade').size().sort_values().tail(5).plot(kind='barh')"
   ]
  },
  {
   "cell_type": "code",
   "execution_count": 8,
   "metadata": {},
   "outputs": [
    {
     "data": {
      "text/plain": [
       "<matplotlib.axes._subplots.AxesSubplot at 0x261e7838d48>"
      ]
     },
     "execution_count": 8,
     "metadata": {},
     "output_type": "execute_result"
    },
    {
     "data": {
      "image/png": "[encoded data removed]",
      "text/plain": [
       "<Figure size 432x288 with 1 Axes>"
      ]
     },
     "metadata": {
      "needs_background": "light"
     },
     "output_type": "display_data"
    }
   ],
   "source": [
    "df.groupby('Polos_Baixa_media_complexidade').size().sort_values().tail(5).plot(kind='barh')"
   ]
  },
  {
   "cell_type": "code",
   "execution_count": 9,
   "metadata": {},
   "outputs": [
    {
     "data": {
      "text/plain": [
       "Municipio\n",
       "ABAETE            1\n",
       "PATROCINIO        1\n",
       "PAU DOS FERROS    1\n",
       "PAULISTANA        1\n",
       "PAULO AFONSO      1\n",
       "                 ..\n",
       "VICOSA            2\n",
       "REDENCAO          2\n",
       "VALENCA           2\n",
       "ITAPORANGA        2\n",
       "PRAIA GRANDE      2\n",
       "Length: 901, dtype: int64"
      ]
     },
     "execution_count": 9,
     "metadata": {},
     "output_type": "execute_result"
    }
   ],
   "source": [
    "df.groupby('Municipio').size().sort_values()"
   ]
  },
  {
   "cell_type": "code",
   "execution_count": 10,
   "metadata": {},
   "outputs": [
    {
     "data": {
      "text/plain": [
       "Polos_de_Alta_Complexidade\n",
       "Subpolo de alta complexidade de serviços de saúde     53\n",
       "Polo de alta complexidade de serviços de saúde       263\n",
       "dtype: int64"
      ]
     },
     "execution_count": 10,
     "metadata": {},
     "output_type": "execute_result"
    }
   ],
   "source": [
    "\n",
    "df.groupby('Polos_de_Alta_Complexidade').size().sort_values()"
   ]
  },
  {
   "cell_type": "code",
   "execution_count": 11,
   "metadata": {},
   "outputs": [
    {
     "data": {
      "text/plain": [
       "Polos_Baixa_media_complexidade\n",
       "subpolo de baixa e media complexidade de serviços de saúde    151\n",
       "polo de baixa e media complexidade de serviços de saúde       758\n",
       "dtype: int64"
      ]
     },
     "execution_count": 11,
     "metadata": {},
     "output_type": "execute_result"
    }
   ],
   "source": [
    "df.groupby('Polos_Baixa_media_complexidade').size().sort_values()"
   ]
  },
  {
   "cell_type": "code",
   "execution_count": 12,
   "metadata": {},
   "outputs": [
    {
     "data": {
      "text/plain": [
       "<matplotlib.axes._subplots.AxesSubplot at 0x261e9afeb48>"
      ]
     },
     "execution_count": 12,
     "metadata": {},
     "output_type": "execute_result"
    },
    {
     "data": {
      "image/png": "[encoded data removed]",
      "text/plain": [
       "<Figure size 432x288 with 1 Axes>"
      ]
     },
     "metadata": {
      "needs_background": "light"
     },
     "output_type": "display_data"
    }
   ],
   "source": [
    "df.query('Municipio == \"SAO JOSE DOS CAMPOS\"').groupby('Polos_de_Alta_Complexidade').size().plot(kind='bar')"
   ]
  }
 ],
 "metadata": {
  "kernelspec": {
   "display_name": "Python 3",
   "language": "python",
   "name": "python3"
  },
  "language_info": {
   "codemirror_mode": {
    "name": "ipython",
    "version": 3
   },
   "file_extension": ".py",
   "mimetype": "text/x-python",
   "name": "python",
   "nbconvert_exporter": "python",
   "pygments_lexer": "ipython3",
   "version": "3.7.6"
  }
 },
 "nbformat": 4,
 "nbformat_minor": 4
}
